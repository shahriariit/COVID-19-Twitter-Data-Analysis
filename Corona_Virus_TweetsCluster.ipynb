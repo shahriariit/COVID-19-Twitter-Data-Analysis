{
  "nbformat": 4,
  "nbformat_minor": 0,
  "metadata": {
    "colab": {
      "name": "Corona_Virus_TweetsCluster.ipynb",
      "provenance": [],
      "include_colab_link": true
    },
    "kernelspec": {
      "name": "python3",
      "display_name": "Python 3"
    }
  },
  "cells": [
    {
      "cell_type": "markdown",
      "metadata": {
        "id": "view-in-github",
        "colab_type": "text"
      },
      "source": [
        "<a href=\"https://colab.research.google.com/github/shahriariit/COVID-19-Twitter-Data-Analysis/blob/master/Corona_Virus_TweetsCluster.ipynb\" target=\"_parent\"><img src=\"https://colab.research.google.com/assets/colab-badge.svg\" alt=\"Open In Colab\"/></a>"
      ]
    },
    {
      "cell_type": "code",
      "metadata": {
        "id": "5iDlYJBfmlKa",
        "colab_type": "code",
        "colab": {}
      },
      "source": [
        "import pandas as pd\n",
        "import numpy as np\n",
        "from sklearn.svm import SVC\n",
        "from xgboost import XGBClassifier\n",
        "from sklearn.naive_bayes import GaussianNB\n",
        "from sklearn.tree import DecisionTreeClassifier\n",
        "from sklearn.neural_network import MLPClassifier\n",
        "from sklearn.neighbors import KNeighborsClassifier\n",
        "from sklearn.ensemble import RandomForestClassifier\n",
        "from sklearn.linear_model import LogisticRegression\n",
        "from sklearn.ensemble import GradientBoostingClassifier"
      ],
      "execution_count": 0,
      "outputs": []
    },
    {
      "cell_type": "code",
      "metadata": {
        "colab_type": "code",
        "id": "LQ-Aq3rxkT1k",
        "colab": {}
      },
      "source": [
        "data = pd.read_csv(\"https://raw.githubusercontent.com/shahriariit/COVID-19-Twitter-Data-Analysis/master/corona_tweets_2L.csv?token=AD3GRL2AZOMROSKUO23O4326TFWXQ\")"
      ],
      "execution_count": 0,
      "outputs": []
    },
    {
      "cell_type": "code",
      "metadata": {
        "id": "S0VhDCewZHsW",
        "colab_type": "code",
        "colab": {}
      },
      "source": [
        "X = data.drop(\"Class\", axis = 1).values\n",
        "y = data[\"Class\"].values"
      ],
      "execution_count": 0,
      "outputs": []
    },
    {
      "cell_type": "code",
      "metadata": {
        "id": "k_UBSYBItPXp",
        "colab_type": "code",
        "colab": {}
      },
      "source": [
        ""
      ],
      "execution_count": 0,
      "outputs": []
    },
    {
      "cell_type": "code",
      "metadata": {
        "colab_type": "code",
        "id": "4Tf3iVGky4v1",
        "colab": {}
      },
      "source": [
        ""
      ],
      "execution_count": 0,
      "outputs": []
    },
    {
      "cell_type": "code",
      "metadata": {
        "colab_type": "code",
        "id": "vQwf6p87y4vm",
        "colab": {}
      },
      "source": [
        "from sklearn import model_selection"
      ],
      "execution_count": 0,
      "outputs": []
    },
    {
      "cell_type": "code",
      "metadata": {
        "colab_type": "code",
        "id": "qI6eKJ63y4va",
        "colab": {}
      },
      "source": [
        "from sklearn import metrics\n",
        "from imblearn import metrics as metrics2"
      ],
      "execution_count": 0,
      "outputs": []
    },
    {
      "cell_type": "markdown",
      "metadata": {
        "id": "wwHsR-hktQPV",
        "colab_type": "text"
      },
      "source": [
        "## **Outlier**"
      ]
    },
    {
      "cell_type": "code",
      "metadata": {
        "id": "Zuqm4wrrtPVj",
        "colab_type": "code",
        "colab": {}
      },
      "source": [
        ""
      ],
      "execution_count": 0,
      "outputs": []
    },
    {
      "cell_type": "code",
      "metadata": {
        "id": "N6jPPXFttPSd",
        "colab_type": "code",
        "colab": {}
      },
      "source": [
        ""
      ],
      "execution_count": 0,
      "outputs": []
    },
    {
      "cell_type": "code",
      "metadata": {
        "id": "GqYw5VWMX7NJ",
        "colab_type": "code",
        "colab": {}
      },
      "source": [
        "model = RandomForestClassifier()\n",
        "\n",
        "y_pred = model_selection.cross_val_predict(model, X, y, cv = 10)\n",
        "print('Accuracy :       ', metrics.accuracy_score(y, y_pred))\n",
        "print('F-Measure :      ', metrics.f1_score(y, y_pred, average = 'weighted'))\n",
        "print('Geometric Mean : ', metrics2.geometric_mean_score(y, y_pred, average = 'weighted'))\n",
        "print('Sensitivity :    ', metrics2.sensitivity_score(y, y_pred, average = 'weighted'))\n",
        "print('Specificity :    ', metrics2.specificity_score(y, y_pred, average = 'weighted'))\n",
        "print('Type I Error :   ', (1-metrics2.geometric_mean_score(y, y_pred, average = 'weighted')))\n",
        "print('Type II Error :  ', (1-metrics2.specificity_score(y, y_pred, average = 'weighted')))\n",
        "print(\"########################################\")"
      ],
      "execution_count": 0,
      "outputs": []
    },
    {
      "cell_type": "code",
      "metadata": {
        "id": "1TCCANVWm_z8",
        "colab_type": "code",
        "colab": {}
      },
      "source": [
        ""
      ],
      "execution_count": 0,
      "outputs": []
    }
  ]
}