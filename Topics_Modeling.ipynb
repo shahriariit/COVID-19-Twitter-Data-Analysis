{
  "nbformat": 4,
  "nbformat_minor": 0,
  "metadata": {
    "colab": {
      "name": "Topics Modeling.ipynb",
      "provenance": [],
      "authorship_tag": "ABX9TyNBbPiLUrJPgwkcRMa0WusP",
      "include_colab_link": true
    },
    "kernelspec": {
      "name": "python3",
      "display_name": "Python 3"
    }
  },
  "cells": [
    {
      "cell_type": "markdown",
      "metadata": {
        "id": "view-in-github",
        "colab_type": "text"
      },
      "source": [
        "<a href=\"https://colab.research.google.com/github/shahriariit/COVID-19-Twitter-Data-Analysis/blob/master/Topics_Modeling.ipynb\" target=\"_parent\"><img src=\"https://colab.research.google.com/assets/colab-badge.svg\" alt=\"Open In Colab\"/></a>"
      ]
    },
    {
      "cell_type": "code",
      "metadata": {
        "id": "XMUMCfH8tnOQ",
        "colab_type": "code",
        "colab": {
          "base_uri": "https://localhost:8080/",
          "height": 51
        },
        "outputId": "b4d04a9f-3c93-4cb3-9843-33f8906251d0"
      },
      "source": [
        "from sklearn.datasets import fetch_20newsgroups\n",
        "newsgroups_train = fetch_20newsgroups(subset='train', shuffle = True)\n",
        "newsgroups_test = fetch_20newsgroups(subset='test', shuffle = True)"
      ],
      "execution_count": 1,
      "outputs": [
        {
          "output_type": "stream",
          "text": [
            "Downloading 20news dataset. This may take a few minutes.\n",
            "Downloading dataset from https://ndownloader.figshare.com/files/5975967 (14 MB)\n"
          ],
          "name": "stderr"
        }
      ]
    },
    {
      "cell_type": "code",
      "metadata": {
        "id": "G7ccPYBitqEl",
        "colab_type": "code",
        "colab": {}
      },
      "source": [
        "print(list(newsgroups_train.target_names))"
      ],
      "execution_count": 0,
      "outputs": []
    }
  ]
}